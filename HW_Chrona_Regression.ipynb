{
 "cells": [
  {
   "cell_type": "markdown",
   "id": "40a503b6-27b8-494c-b181-e3a273f3f95b",
   "metadata": {},
   "source": [
    "### Adding packages"
   ]
  },
  {
   "cell_type": "code",
   "execution_count": 1,
   "id": "af15a27c-2cf9-4cb9-99ca-f7bb6f3a2569",
   "metadata": {
    "tags": []
   },
   "outputs": [],
   "source": [
    "# init environment\n",
    "from io import BytesIO\n",
    "from zipfile import ZipFile\n",
    "from urllib.request import urlopen\n",
    "\n",
    "import numpy as np\n",
    "import pandas as pd\n",
    "import scipy.stats as st\n",
    "import math\n",
    "import matplotlib.text as plttxt\n",
    "\n",
    "import matplotlib.pyplot as plt\n",
    "%matplotlib inline\n",
    "\n",
    "import seaborn as sns\n",
    "plt.style.use('bmh')\n",
    "\n",
    "from dateutil import parser\n",
    "\n",
    "from sklearn.linear_model import LinearRegression\n",
    "from sklearn.impute import SimpleImputer, KNNImputer\n",
    "from sklearn.experimental import enable_iterative_imputer\n",
    "from sklearn.impute import IterativeImputer\n",
    "\n",
    "from sklearn.linear_model import BayesianRidge\n",
    "from sklearn.tree import DecisionTreeRegressor\n",
    "from sklearn.ensemble import ExtraTreesRegressor\n",
    "from sklearn.neighbors import KNeighborsRegressor\n",
    "from sklearn.pipeline import make_pipeline\n",
    "from sklearn.model_selection import cross_val_score\n",
    "\n",
    "from sklearn.preprocessing import StandardScaler, QuantileTransformer\n",
    "from sklearn.compose import ColumnTransformer\n",
    "from sklearn.pipeline import Pipeline\n",
    "\n",
    "from sklearn.model_selection import train_test_split\n",
    "from sklearn.model_selection import TimeSeriesSplit\n",
    "from sklearn.preprocessing import PolynomialFeatures\n",
    "from sklearn.linear_model import Ridge, Lasso\n",
    "from sklearn.model_selection import GridSearchCV\n",
    "from sklearn.model_selection import cross_val_score\n",
    "from sklearn.model_selection import RepeatedKFold\n",
    "from sklearn.metrics import r2_score\n",
    "\n",
    "from sklearn.preprocessing import RobustScaler\n",
    "from sklearn.preprocessing import PolynomialFeatures\n",
    "from sklearn.preprocessing import Normalizer\n",
    "from sklearn.preprocessing import StandardScaler\n",
    "from sklearn.preprocessing import OneHotEncoder\n",
    "from sklearn.pipeline import make_pipeline\n",
    "from sklearn.model_selection import RepeatedKFold, cross_validate\n",
    "from sklearn.compose import TransformedTargetRegressor, make_column_transformer\n",
    "from sklearn.metrics import PredictionErrorDisplay, median_absolute_error, mean_absolute_error\n",
    "import scipy as sp\n",
    "from sklearn.linear_model import RidgeCV, LassoCV\n",
    "# from regressors.stats import coef_pval\n",
    "%matplotlib inline"
   ]
  },
  {
   "cell_type": "markdown",
   "id": "3e000a40-7fe6-4896-b020-4177e60a4377",
   "metadata": {},
   "source": [
    "### Function for data preparation"
   ]
  },
  {
   "cell_type": "code",
   "execution_count": 2,
   "id": "a25a2c01-26ac-4bd3-bc5f-6d68cb8344d8",
   "metadata": {
    "tags": []
   },
   "outputs": [],
   "source": [
    "def data_prep(df):\n",
    "    # check empty rows and drop them\n",
    "    df.dropna(how='all', inplace=True)\n",
    "    # drop last 2 columns\n",
    "    df.drop(['Unnamed: 15', 'Unnamed: 16'], axis=1, inplace=True)\n",
    "    \n",
    "    #change objects to float\n",
    "    df['DateTime'] = (df['Date'] + ' ' + df['Time'].str.replace('.', ':')).map(parser.parse)\n",
    "    df['Date'] = df['Date'].map(parser.parse)\n",
    "    df['Hour'] = df['Time'].map(lambda x: int(x[0:2]))\n",
    "    df['C6H6(GT)'] = df['C6H6(GT)'].map(lambda x: float(x.replace(',','.')))\n",
    "    df['CO(GT)'] = df['CO(GT)'].map(lambda x: float(x.replace(',','.')))\n",
    "    df['T'] = df['T'].map(lambda x: float(x.replace(',','.')))\n",
    "    df['RH'] = df['RH'].map(lambda x: float(x.replace(',','.')))\n",
    "    df['AH'] = df['AH'].map(lambda x: float(x.replace(',','.')))\n",
    "    #by default missing values are filled with -200\n",
    "    df.replace(-200, np.nan, inplace=True)\n",
    "    \n",
    "    df.dropna(thresh=5, inplace=True)\n",
    "    \n",
    "    X = df.iloc[:, 2:15]\n",
    "    # imputer = SimpleImputer(missing_values=np.nan, strategy='median')\n",
    "    imputer = KNNImputer(n_neighbors=4, weights='distance')\n",
    "    df.iloc[:, 2:15] = imputer.fit_transform(df.iloc[:, 2:15])\n",
    "\n",
    "    return df"
   ]
  },
  {
   "cell_type": "markdown",
   "id": "031bb476-3ea0-4293-b439-ef0b62b2de18",
   "metadata": {},
   "source": [
    "### Data extraction"
   ]
  },
  {
   "cell_type": "code",
   "execution_count": 3,
   "id": "f7e74f20-27d0-438d-bf81-e3c9ff0fb9f1",
   "metadata": {
    "tags": []
   },
   "outputs": [],
   "source": [
    "file_url = 'https://archive.ics.uci.edu/ml/machine-learning-databases/00360/AirQualityUCI.zip'\n",
    "resp = urlopen(file_url)\n",
    "zipfile = ZipFile(BytesIO(resp.read()))\n",
    "data = zipfile.open('AirQualityUCI.csv')\n",
    "df = pd.read_csv(data, sep=';')"
   ]
  },
  {
   "cell_type": "markdown",
   "id": "50f3656a-b6a2-4eb1-8d73-9ab3fa5d133d",
   "metadata": {},
   "source": [
    "### Data preparation"
   ]
  },
  {
   "cell_type": "code",
   "execution_count": 4,
   "id": "4ebd0c23-cba4-4fff-a5cc-e2c5b4442366",
   "metadata": {
    "tags": []
   },
   "outputs": [],
   "source": [
    "df = data_prep(df)"
   ]
  },
  {
   "cell_type": "code",
   "execution_count": null,
   "id": "321d3864-c38f-4e6d-af99-4bf8edbaa463",
   "metadata": {},
   "outputs": [],
   "source": []
  },
  {
   "cell_type": "markdown",
   "id": "4e6dc09e-a79d-4ebe-9710-b5acdc107c7f",
   "metadata": {},
   "source": [
    "## Formatting datasets"
   ]
  },
  {
   "cell_type": "code",
   "execution_count": 7,
   "id": "d955d8fb-afa8-4785-8bfb-ff5ea9d50231",
   "metadata": {
    "tags": []
   },
   "outputs": [],
   "source": [
    "Y_df = df[\"C6H6(GT)\"]\n",
    "#  Skip \"PT08.S2(NMHC)\" as it has functional dependency on with the dependent variable \"C6H6(GT)\"\n",
    "# X_df = df.drop(labels=['C6H6(GT)', 'PT08.S2(NMHC)', 'Date', 'Time', 'DateTime'], inplace=False, axis=1)\n",
    "X_df = df['PT08.S4(NO2)']\n",
    "X_df_c = X_df.copy()"
   ]
  },
  {
   "cell_type": "code",
   "execution_count": 8,
   "id": "db964553-0ca5-4061-b223-64a5896dcf4c",
   "metadata": {
    "tags": []
   },
   "outputs": [],
   "source": [
    "# split the data\n",
    "X_train, X_test, y_train, y_test = train_test_split(X_df, Y_df, random_state=42)"
   ]
  },
  {
   "cell_type": "markdown",
   "id": "30d00e4b-e0c6-4f8b-a756-599126f1a512",
   "metadata": {},
   "source": [
    "## Create model"
   ]
  },
  {
   "cell_type": "code",
   "execution_count": 9,
   "id": "227d2df1-d9be-409f-a45a-88f19015b04a",
   "metadata": {
    "tags": []
   },
   "outputs": [
    {
     "ename": "AttributeError",
     "evalue": "'Series' object has no attribute 'columns'",
     "output_type": "error",
     "traceback": [
      "\u001b[0;31m---------------------------------------------------------------------------\u001b[0m",
      "\u001b[0;31mAttributeError\u001b[0m                            Traceback (most recent call last)",
      "\u001b[0;32m/tmp/ipykernel_81400/3982585452.py\u001b[0m in \u001b[0;36m?\u001b[0;34m()\u001b[0m\n\u001b[1;32m      1\u001b[0m \u001b[0;31m#To improve mode performance, we can use a normalization and apply log to the target variable to turn it approximately into a normal distribution\u001b[0m\u001b[0;34m\u001b[0m\u001b[0;34m\u001b[0m\u001b[0m\n\u001b[1;32m      2\u001b[0m \u001b[0;31m# define model\u001b[0m\u001b[0;34m\u001b[0m\u001b[0;34m\u001b[0m\u001b[0m\n\u001b[1;32m      3\u001b[0m preprocessor = make_column_transformer(\n\u001b[0;32m----> 4\u001b[0;31m     \u001b[0;34m(\u001b[0m\u001b[0mNormalizer\u001b[0m\u001b[0;34m(\u001b[0m\u001b[0;34m)\u001b[0m\u001b[0;34m,\u001b[0m \u001b[0mX_df\u001b[0m\u001b[0;34m.\u001b[0m\u001b[0mcolumns\u001b[0m\u001b[0;34m)\u001b[0m\u001b[0;34m,\u001b[0m \u001b[0;31m# normalize all features\u001b[0m\u001b[0;34m\u001b[0m\u001b[0;34m\u001b[0m\u001b[0m\n\u001b[0m\u001b[1;32m      5\u001b[0m     \u001b[0mremainder\u001b[0m\u001b[0;34m=\u001b[0m\u001b[0;34m\"passthrough\"\u001b[0m\u001b[0;34m,\u001b[0m\u001b[0;34m\u001b[0m\u001b[0;34m\u001b[0m\u001b[0m\n\u001b[1;32m      6\u001b[0m     \u001b[0mverbose_feature_names_out\u001b[0m\u001b[0;34m=\u001b[0m\u001b[0;32mFalse\u001b[0m\u001b[0;34m,\u001b[0m  \u001b[0;31m# avoid to prepend the preprocessor names\u001b[0m\u001b[0;34m\u001b[0m\u001b[0;34m\u001b[0m\u001b[0m\n\u001b[1;32m      7\u001b[0m )\n",
      "\u001b[0;32m~/anaconda3/lib/python3.11/site-packages/pandas/core/generic.py\u001b[0m in \u001b[0;36m?\u001b[0;34m(self, name)\u001b[0m\n\u001b[1;32m   5985\u001b[0m             \u001b[0;32mand\u001b[0m \u001b[0mname\u001b[0m \u001b[0;32mnot\u001b[0m \u001b[0;32min\u001b[0m \u001b[0mself\u001b[0m\u001b[0;34m.\u001b[0m\u001b[0m_accessors\u001b[0m\u001b[0;34m\u001b[0m\u001b[0;34m\u001b[0m\u001b[0m\n\u001b[1;32m   5986\u001b[0m             \u001b[0;32mand\u001b[0m \u001b[0mself\u001b[0m\u001b[0;34m.\u001b[0m\u001b[0m_info_axis\u001b[0m\u001b[0;34m.\u001b[0m\u001b[0m_can_hold_identifiers_and_holds_name\u001b[0m\u001b[0;34m(\u001b[0m\u001b[0mname\u001b[0m\u001b[0;34m)\u001b[0m\u001b[0;34m\u001b[0m\u001b[0;34m\u001b[0m\u001b[0m\n\u001b[1;32m   5987\u001b[0m         ):\n\u001b[1;32m   5988\u001b[0m             \u001b[0;32mreturn\u001b[0m \u001b[0mself\u001b[0m\u001b[0;34m[\u001b[0m\u001b[0mname\u001b[0m\u001b[0;34m]\u001b[0m\u001b[0;34m\u001b[0m\u001b[0;34m\u001b[0m\u001b[0m\n\u001b[0;32m-> 5989\u001b[0;31m         \u001b[0;32mreturn\u001b[0m \u001b[0mobject\u001b[0m\u001b[0;34m.\u001b[0m\u001b[0m__getattribute__\u001b[0m\u001b[0;34m(\u001b[0m\u001b[0mself\u001b[0m\u001b[0;34m,\u001b[0m \u001b[0mname\u001b[0m\u001b[0;34m)\u001b[0m\u001b[0;34m\u001b[0m\u001b[0;34m\u001b[0m\u001b[0m\n\u001b[0m",
      "\u001b[0;31mAttributeError\u001b[0m: 'Series' object has no attribute 'columns'"
     ]
    }
   ],
   "source": [
    "#To improve mode performance, we can use a normalization and apply log to the target variable to turn it approximately into a normal distribution\n",
    "# define model\n",
    "preprocessor = make_column_transformer(\n",
    "    (Normalizer(), X_df.columns), # normalize all features\n",
    "    remainder=\"passthrough\",\n",
    "    verbose_feature_names_out=False,  # avoid to prepend the preprocessor names\n",
    ")\n",
    "\n",
    "model = make_pipeline(\n",
    "    preprocessor,\n",
    "    TransformedTargetRegressor(\n",
    "        regressor=LinearRegression(), func=np.log10, inverse_func=sp.special.exp10 # apply log to target variable to turn it approximately into a normal distribution\n",
    "    ),\n",
    ")"
   ]
  },
  {
   "cell_type": "markdown",
   "id": "3fbe3796-7297-4094-a4c6-5709ed8c1dc4",
   "metadata": {},
   "source": [
    "## Evaluate model"
   ]
  },
  {
   "cell_type": "code",
   "execution_count": 8,
   "id": "3565727d-3b79-4312-ade0-4b85db698d3e",
   "metadata": {
    "tags": []
   },
   "outputs": [
    {
     "name": "stdout",
     "output_type": "stream",
     "text": [
      "Mean MAE: 1.033 (0.039)\n"
     ]
    }
   ],
   "source": [
    "# define model evaluation method\n",
    "cv = RepeatedKFold(n_splits=10, n_repeats=3, random_state=1)\n",
    "# evaluate model\n",
    "scores = cross_val_score(model, X_df, Y_df, scoring='neg_mean_absolute_error', cv=cv, n_jobs=-1)\n",
    "# force scores to be positive\n",
    "scores = np.absolute(scores)\n",
    "print('Mean MAE: %.3f (%.3f)' % (np.mean(scores), np.std(scores)))"
   ]
  },
  {
   "cell_type": "code",
   "execution_count": 10,
   "id": "5bc88d8b-e787-4cae-b9b6-36e160c985b6",
   "metadata": {
    "tags": []
   },
   "outputs": [],
   "source": [
    "d = {'Imputer': ['SimpleImputer', 'KNNImputer', 'KNNImputer', 'KNNImputer', 'KNNImputer', 'KNNImputer', 'KNNImputer', 'KNNImputer']\n",
    "   , 'n_neighbors': [np.nan, 2, 3, 4, 5, 6, 10, 20]\n",
    "   , 'Mean MAE' : [1.137, 1.069, 1.052, 1.044, 1.040, 1.038, 1.033, 1.024]\n",
    "   , 'StDev MAE' : [0.038, 0.042, 0.039, 0.038, 0.039, 0.039, 0.039, 0.040]}\n",
    "df_LinearRegression = pd.DataFrame(data=d)"
   ]
  },
  {
   "cell_type": "code",
   "execution_count": 11,
   "id": "2cdcdbb8-3641-4111-9c66-77b957cedb2b",
   "metadata": {
    "tags": []
   },
   "outputs": [
    {
     "data": {
      "text/html": [
       "<div>\n",
       "<style scoped>\n",
       "    .dataframe tbody tr th:only-of-type {\n",
       "        vertical-align: middle;\n",
       "    }\n",
       "\n",
       "    .dataframe tbody tr th {\n",
       "        vertical-align: top;\n",
       "    }\n",
       "\n",
       "    .dataframe thead th {\n",
       "        text-align: right;\n",
       "    }\n",
       "</style>\n",
       "<table border=\"1\" class=\"dataframe\">\n",
       "  <thead>\n",
       "    <tr style=\"text-align: right;\">\n",
       "      <th></th>\n",
       "      <th>Imputer</th>\n",
       "      <th>n_neighbors</th>\n",
       "      <th>Mean MAE</th>\n",
       "      <th>StDev MAE</th>\n",
       "    </tr>\n",
       "  </thead>\n",
       "  <tbody>\n",
       "    <tr>\n",
       "      <th>0</th>\n",
       "      <td>SimpleImputer</td>\n",
       "      <td>NaN</td>\n",
       "      <td>1.137</td>\n",
       "      <td>0.038</td>\n",
       "    </tr>\n",
       "    <tr>\n",
       "      <th>1</th>\n",
       "      <td>KNNImputer</td>\n",
       "      <td>2.0</td>\n",
       "      <td>1.069</td>\n",
       "      <td>0.042</td>\n",
       "    </tr>\n",
       "    <tr>\n",
       "      <th>2</th>\n",
       "      <td>KNNImputer</td>\n",
       "      <td>3.0</td>\n",
       "      <td>1.052</td>\n",
       "      <td>0.039</td>\n",
       "    </tr>\n",
       "    <tr>\n",
       "      <th>3</th>\n",
       "      <td>KNNImputer</td>\n",
       "      <td>4.0</td>\n",
       "      <td>1.044</td>\n",
       "      <td>0.038</td>\n",
       "    </tr>\n",
       "    <tr>\n",
       "      <th>4</th>\n",
       "      <td>KNNImputer</td>\n",
       "      <td>5.0</td>\n",
       "      <td>1.040</td>\n",
       "      <td>0.039</td>\n",
       "    </tr>\n",
       "    <tr>\n",
       "      <th>5</th>\n",
       "      <td>KNNImputer</td>\n",
       "      <td>6.0</td>\n",
       "      <td>1.038</td>\n",
       "      <td>0.039</td>\n",
       "    </tr>\n",
       "    <tr>\n",
       "      <th>6</th>\n",
       "      <td>KNNImputer</td>\n",
       "      <td>10.0</td>\n",
       "      <td>1.033</td>\n",
       "      <td>0.039</td>\n",
       "    </tr>\n",
       "    <tr>\n",
       "      <th>7</th>\n",
       "      <td>KNNImputer</td>\n",
       "      <td>20.0</td>\n",
       "      <td>1.024</td>\n",
       "      <td>0.040</td>\n",
       "    </tr>\n",
       "  </tbody>\n",
       "</table>\n",
       "</div>"
      ],
      "text/plain": [
       "         Imputer  n_neighbors  Mean MAE  StDev MAE\n",
       "0  SimpleImputer          NaN     1.137      0.038\n",
       "1     KNNImputer          2.0     1.069      0.042\n",
       "2     KNNImputer          3.0     1.052      0.039\n",
       "3     KNNImputer          4.0     1.044      0.038\n",
       "4     KNNImputer          5.0     1.040      0.039\n",
       "5     KNNImputer          6.0     1.038      0.039\n",
       "6     KNNImputer         10.0     1.033      0.039\n",
       "7     KNNImputer         20.0     1.024      0.040"
      ]
     },
     "execution_count": 11,
     "metadata": {},
     "output_type": "execute_result"
    }
   ],
   "source": [
    "df_LinearRegression"
   ]
  },
  {
   "cell_type": "markdown",
   "id": "68254707-936d-436c-82a0-221c9c7cb62e",
   "metadata": {},
   "source": [
    "After analyzing the outcomes, it appears that employing the KNN imputer is more suitable for this task. For optimal performance, the recommended number of neighbors for the linear regression model might be 4. Increasing the number of neighbors beyond this threshold does not significantly reduce the absolute error and instead results in greater deviation of errors."
   ]
  },
  {
   "cell_type": "markdown",
   "id": "63b0652a-6061-41df-9895-17432a31c686",
   "metadata": {},
   "source": [
    "##  Linear regression model with poly features"
   ]
  },
  {
   "cell_type": "code",
   "execution_count": 12,
   "id": "0a4f1e6e-c2a5-4fe7-8b78-cab01af4253c",
   "metadata": {
    "tags": []
   },
   "outputs": [
    {
     "ename": "KeyError",
     "evalue": "'PT08.S4(NO2)'",
     "output_type": "error",
     "traceback": [
      "\u001b[0;31m---------------------------------------------------------------------------\u001b[0m",
      "\u001b[0;31mKeyError\u001b[0m                                  Traceback (most recent call last)",
      "File \u001b[0;32m~/anaconda3/lib/python3.11/site-packages/pandas/core/indexes/base.py:3653\u001b[0m, in \u001b[0;36mIndex.get_loc\u001b[0;34m(self, key)\u001b[0m\n\u001b[1;32m   3652\u001b[0m \u001b[38;5;28;01mtry\u001b[39;00m:\n\u001b[0;32m-> 3653\u001b[0m     \u001b[38;5;28;01mreturn\u001b[39;00m \u001b[38;5;28mself\u001b[39m\u001b[38;5;241m.\u001b[39m_engine\u001b[38;5;241m.\u001b[39mget_loc(casted_key)\n\u001b[1;32m   3654\u001b[0m \u001b[38;5;28;01mexcept\u001b[39;00m \u001b[38;5;167;01mKeyError\u001b[39;00m \u001b[38;5;28;01mas\u001b[39;00m err:\n",
      "File \u001b[0;32m~/anaconda3/lib/python3.11/site-packages/pandas/_libs/index.pyx:147\u001b[0m, in \u001b[0;36mpandas._libs.index.IndexEngine.get_loc\u001b[0;34m()\u001b[0m\n",
      "File \u001b[0;32m~/anaconda3/lib/python3.11/site-packages/pandas/_libs/index.pyx:155\u001b[0m, in \u001b[0;36mpandas._libs.index.IndexEngine.get_loc\u001b[0;34m()\u001b[0m\n",
      "File \u001b[0;32mpandas/_libs/index_class_helper.pxi:70\u001b[0m, in \u001b[0;36mpandas._libs.index.Int64Engine._check_type\u001b[0;34m()\u001b[0m\n",
      "\u001b[0;31mKeyError\u001b[0m: 'PT08.S4(NO2)'",
      "\nThe above exception was the direct cause of the following exception:\n",
      "\u001b[0;31mKeyError\u001b[0m                                  Traceback (most recent call last)",
      "Cell \u001b[0;32mIn[12], line 4\u001b[0m\n\u001b[1;32m      1\u001b[0m \u001b[38;5;66;03m# polinomial model\u001b[39;00m\n\u001b[1;32m      3\u001b[0m preprocessor \u001b[38;5;241m=\u001b[39m make_column_transformer(\n\u001b[0;32m----> 4\u001b[0m     (PolynomialFeatures(\u001b[38;5;241m2\u001b[39m), X_df[\u001b[38;5;124m'\u001b[39m\u001b[38;5;124mPT08.S4(NO2)\u001b[39m\u001b[38;5;124m'\u001b[39m]), \u001b[38;5;66;03m#\u001b[39;00m\n\u001b[1;32m      5\u001b[0m     remainder\u001b[38;5;241m=\u001b[39m\u001b[38;5;124m\"\u001b[39m\u001b[38;5;124mpassthrough\u001b[39m\u001b[38;5;124m\"\u001b[39m,\n\u001b[1;32m      6\u001b[0m     verbose_feature_names_out\u001b[38;5;241m=\u001b[39m\u001b[38;5;28;01mFalse\u001b[39;00m,  \u001b[38;5;66;03m# avoid to prepend the preprocessor names\u001b[39;00m\n\u001b[1;32m      7\u001b[0m )\n\u001b[1;32m      9\u001b[0m model_plnm \u001b[38;5;241m=\u001b[39m make_pipeline(\n\u001b[1;32m     10\u001b[0m     preprocessor,\n\u001b[1;32m     11\u001b[0m     TransformedTargetRegressor(\n\u001b[0;32m   (...)\u001b[0m\n\u001b[1;32m     14\u001b[0m     ),\n\u001b[1;32m     15\u001b[0m )\n\u001b[1;32m     17\u001b[0m \u001b[38;5;66;03m# define model evaluation method\u001b[39;00m\n",
      "File \u001b[0;32m~/anaconda3/lib/python3.11/site-packages/pandas/core/series.py:1007\u001b[0m, in \u001b[0;36mSeries.__getitem__\u001b[0;34m(self, key)\u001b[0m\n\u001b[1;32m   1004\u001b[0m     \u001b[38;5;28;01mreturn\u001b[39;00m \u001b[38;5;28mself\u001b[39m\u001b[38;5;241m.\u001b[39m_values[key]\n\u001b[1;32m   1006\u001b[0m \u001b[38;5;28;01melif\u001b[39;00m key_is_scalar:\n\u001b[0;32m-> 1007\u001b[0m     \u001b[38;5;28;01mreturn\u001b[39;00m \u001b[38;5;28mself\u001b[39m\u001b[38;5;241m.\u001b[39m_get_value(key)\n\u001b[1;32m   1009\u001b[0m \u001b[38;5;28;01mif\u001b[39;00m is_hashable(key):\n\u001b[1;32m   1010\u001b[0m     \u001b[38;5;66;03m# Otherwise index.get_value will raise InvalidIndexError\u001b[39;00m\n\u001b[1;32m   1011\u001b[0m     \u001b[38;5;28;01mtry\u001b[39;00m:\n\u001b[1;32m   1012\u001b[0m         \u001b[38;5;66;03m# For labels that don't resolve as scalars like tuples and frozensets\u001b[39;00m\n",
      "File \u001b[0;32m~/anaconda3/lib/python3.11/site-packages/pandas/core/series.py:1116\u001b[0m, in \u001b[0;36mSeries._get_value\u001b[0;34m(self, label, takeable)\u001b[0m\n\u001b[1;32m   1113\u001b[0m     \u001b[38;5;28;01mreturn\u001b[39;00m \u001b[38;5;28mself\u001b[39m\u001b[38;5;241m.\u001b[39m_values[label]\n\u001b[1;32m   1115\u001b[0m \u001b[38;5;66;03m# Similar to Index.get_value, but we do not fall back to positional\u001b[39;00m\n\u001b[0;32m-> 1116\u001b[0m loc \u001b[38;5;241m=\u001b[39m \u001b[38;5;28mself\u001b[39m\u001b[38;5;241m.\u001b[39mindex\u001b[38;5;241m.\u001b[39mget_loc(label)\n\u001b[1;32m   1118\u001b[0m \u001b[38;5;28;01mif\u001b[39;00m is_integer(loc):\n\u001b[1;32m   1119\u001b[0m     \u001b[38;5;28;01mreturn\u001b[39;00m \u001b[38;5;28mself\u001b[39m\u001b[38;5;241m.\u001b[39m_values[loc]\n",
      "File \u001b[0;32m~/anaconda3/lib/python3.11/site-packages/pandas/core/indexes/base.py:3655\u001b[0m, in \u001b[0;36mIndex.get_loc\u001b[0;34m(self, key)\u001b[0m\n\u001b[1;32m   3653\u001b[0m     \u001b[38;5;28;01mreturn\u001b[39;00m \u001b[38;5;28mself\u001b[39m\u001b[38;5;241m.\u001b[39m_engine\u001b[38;5;241m.\u001b[39mget_loc(casted_key)\n\u001b[1;32m   3654\u001b[0m \u001b[38;5;28;01mexcept\u001b[39;00m \u001b[38;5;167;01mKeyError\u001b[39;00m \u001b[38;5;28;01mas\u001b[39;00m err:\n\u001b[0;32m-> 3655\u001b[0m     \u001b[38;5;28;01mraise\u001b[39;00m \u001b[38;5;167;01mKeyError\u001b[39;00m(key) \u001b[38;5;28;01mfrom\u001b[39;00m \u001b[38;5;21;01merr\u001b[39;00m\n\u001b[1;32m   3656\u001b[0m \u001b[38;5;28;01mexcept\u001b[39;00m \u001b[38;5;167;01mTypeError\u001b[39;00m:\n\u001b[1;32m   3657\u001b[0m     \u001b[38;5;66;03m# If we have a listlike key, _check_indexing_error will raise\u001b[39;00m\n\u001b[1;32m   3658\u001b[0m     \u001b[38;5;66;03m#  InvalidIndexError. Otherwise we fall through and re-raise\u001b[39;00m\n\u001b[1;32m   3659\u001b[0m     \u001b[38;5;66;03m#  the TypeError.\u001b[39;00m\n\u001b[1;32m   3660\u001b[0m     \u001b[38;5;28mself\u001b[39m\u001b[38;5;241m.\u001b[39m_check_indexing_error(key)\n",
      "\u001b[0;31mKeyError\u001b[0m: 'PT08.S4(NO2)'"
     ]
    }
   ],
   "source": [
    "# polinomial model\n",
    "\n",
    "preprocessor = make_column_transformer(\n",
    "    (PolynomialFeatures(2), X_df['PT08.S4(NO2)']), #\n",
    "    remainder=\"passthrough\",\n",
    "    verbose_feature_names_out=False,  # avoid to prepend the preprocessor names\n",
    ")\n",
    "\n",
    "model_plnm = make_pipeline(\n",
    "    preprocessor,\n",
    "    TransformedTargetRegressor(\n",
    "        regressor=LinearRegression()\n",
    "\n",
    "    ),\n",
    ")\n",
    "\n",
    "# define model evaluation method\n",
    "cv = RepeatedKFold(n_splits=10, n_repeats=3, random_state=1)\n",
    "# evaluate model\n",
    "scores = cross_val_score(model_plnm, X_df, Y_df, scoring='neg_mean_absolute_error', cv=cv, n_jobs=-1)\n",
    "# force scores to be positive\n",
    "scores = np.absolute(scores)\n",
    "print('Mean MAE: %.3f (%.3f)' % (np.mean(scores), np.std(scores)))"
   ]
  },
  {
   "cell_type": "code",
   "execution_count": 27,
   "id": "838c7033-a66a-48a5-9eb4-64504a1f7c86",
   "metadata": {
    "tags": []
   },
   "outputs": [],
   "source": [
    "d = {'Imputer': ['SimpleImputer', 'KNNImputer', 'KNNImputer', 'KNNImputer', 'KNNImputer', 'KNNImputer', 'KNNImputer', 'KNNImputer']\n",
    "   , 'n_neighbors': [np.nan, 2, 3, 4, 5, 6, 10, 20]\n",
    "   , 'Mean MAE' : [0.834, 0.711, 0.697, 0.693, 0.690, 0.688, 0.683, 0.679]\n",
    "   , 'StDev MAE' : [0.026, 0.021, 0.021, 0.020, 0.019, 0.019, 0.020, 0.020]}\n",
    "df_LinearRegression_PF = pd.DataFrame(data=d)"
   ]
  },
  {
   "cell_type": "code",
   "execution_count": 28,
   "id": "c463b972-f7f2-4533-8974-7dd3e40803c3",
   "metadata": {
    "tags": []
   },
   "outputs": [
    {
     "data": {
      "text/html": [
       "<div>\n",
       "<style scoped>\n",
       "    .dataframe tbody tr th:only-of-type {\n",
       "        vertical-align: middle;\n",
       "    }\n",
       "\n",
       "    .dataframe tbody tr th {\n",
       "        vertical-align: top;\n",
       "    }\n",
       "\n",
       "    .dataframe thead th {\n",
       "        text-align: right;\n",
       "    }\n",
       "</style>\n",
       "<table border=\"1\" class=\"dataframe\">\n",
       "  <thead>\n",
       "    <tr style=\"text-align: right;\">\n",
       "      <th></th>\n",
       "      <th>Imputer</th>\n",
       "      <th>n_neighbors</th>\n",
       "      <th>Mean MAE</th>\n",
       "      <th>StDev MAE</th>\n",
       "    </tr>\n",
       "  </thead>\n",
       "  <tbody>\n",
       "    <tr>\n",
       "      <th>0</th>\n",
       "      <td>SimpleImputer</td>\n",
       "      <td>NaN</td>\n",
       "      <td>0.834</td>\n",
       "      <td>0.026</td>\n",
       "    </tr>\n",
       "    <tr>\n",
       "      <th>1</th>\n",
       "      <td>KNNImputer</td>\n",
       "      <td>2.0</td>\n",
       "      <td>0.711</td>\n",
       "      <td>0.021</td>\n",
       "    </tr>\n",
       "    <tr>\n",
       "      <th>2</th>\n",
       "      <td>KNNImputer</td>\n",
       "      <td>3.0</td>\n",
       "      <td>0.697</td>\n",
       "      <td>0.021</td>\n",
       "    </tr>\n",
       "    <tr>\n",
       "      <th>3</th>\n",
       "      <td>KNNImputer</td>\n",
       "      <td>4.0</td>\n",
       "      <td>0.693</td>\n",
       "      <td>0.020</td>\n",
       "    </tr>\n",
       "    <tr>\n",
       "      <th>4</th>\n",
       "      <td>KNNImputer</td>\n",
       "      <td>5.0</td>\n",
       "      <td>0.690</td>\n",
       "      <td>0.019</td>\n",
       "    </tr>\n",
       "    <tr>\n",
       "      <th>5</th>\n",
       "      <td>KNNImputer</td>\n",
       "      <td>6.0</td>\n",
       "      <td>0.688</td>\n",
       "      <td>0.019</td>\n",
       "    </tr>\n",
       "    <tr>\n",
       "      <th>6</th>\n",
       "      <td>KNNImputer</td>\n",
       "      <td>10.0</td>\n",
       "      <td>0.683</td>\n",
       "      <td>0.020</td>\n",
       "    </tr>\n",
       "    <tr>\n",
       "      <th>7</th>\n",
       "      <td>KNNImputer</td>\n",
       "      <td>20.0</td>\n",
       "      <td>0.679</td>\n",
       "      <td>0.020</td>\n",
       "    </tr>\n",
       "  </tbody>\n",
       "</table>\n",
       "</div>"
      ],
      "text/plain": [
       "         Imputer  n_neighbors  Mean MAE  StDev MAE\n",
       "0  SimpleImputer          NaN     0.834      0.026\n",
       "1     KNNImputer          2.0     0.711      0.021\n",
       "2     KNNImputer          3.0     0.697      0.021\n",
       "3     KNNImputer          4.0     0.693      0.020\n",
       "4     KNNImputer          5.0     0.690      0.019\n",
       "5     KNNImputer          6.0     0.688      0.019\n",
       "6     KNNImputer         10.0     0.683      0.020\n",
       "7     KNNImputer         20.0     0.679      0.020"
      ]
     },
     "execution_count": 28,
     "metadata": {},
     "output_type": "execute_result"
    }
   ],
   "source": [
    "df_LinearRegression_PF"
   ]
  },
  {
   "cell_type": "markdown",
   "id": "62fef04b-a5d8-449c-bd5e-871978a962f0",
   "metadata": {},
   "source": [
    "After analyzing the outcomes, it appears that employing the KNN imputer is more suitable for this task. For optimal performance, the recommended number of neighbors for the linear regression model with polynomial Features might be 5. Increasing the number of neighbors beyond this threshold does not significantly reduce the absolute error and instead results in greater deviation of errors."
   ]
  },
  {
   "cell_type": "code",
   "execution_count": null,
   "id": "9c433787-dd26-4517-9800-4fb63a8f3918",
   "metadata": {},
   "outputs": [],
   "source": []
  }
 ],
 "metadata": {
  "kernelspec": {
   "display_name": "Python 3 (ipykernel)",
   "language": "python",
   "name": "python3"
  },
  "language_info": {
   "codemirror_mode": {
    "name": "ipython",
    "version": 3
   },
   "file_extension": ".py",
   "mimetype": "text/x-python",
   "name": "python",
   "nbconvert_exporter": "python",
   "pygments_lexer": "ipython3",
   "version": "3.11.5"
  }
 },
 "nbformat": 4,
 "nbformat_minor": 5
}
